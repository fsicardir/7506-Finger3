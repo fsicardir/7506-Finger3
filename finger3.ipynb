{
 "cells": [
  {
   "cell_type": "markdown",
   "metadata": {},
   "source": [
    "# **Finger 3**"
   ]
  },
  {
   "cell_type": "code",
   "execution_count": 1,
   "metadata": {},
   "outputs": [],
   "source": [
    "from pyspark.sql import SparkSession\n",
    "\n",
    "spark = SparkSession \\\n",
    "    .builder \\\n",
    "    .appName(\"Finger 3\") \\\n",
    "    .getOrCreate()"
   ]
  },
  {
   "cell_type": "code",
   "execution_count": 2,
   "metadata": {},
   "outputs": [],
   "source": [
    "airlines = spark.read.csv('./dataset/airlines.csv', sep=\",\", inferSchema=\"true\", header=\"true\")\n",
    "airlines.createOrReplaceTempView('airlines')"
   ]
  },
  {
   "cell_type": "code",
   "execution_count": 3,
   "metadata": {},
   "outputs": [],
   "source": [
    "flights = spark.read.csv('./dataset/flights.csv', sep=\",\", inferSchema=\"true\", header=\"true\")\n",
    "flights.createOrReplaceTempView('flights')"
   ]
  },
  {
   "cell_type": "code",
   "execution_count": 4,
   "metadata": {},
   "outputs": [],
   "source": [
    "airports = spark.read.csv('./dataset/airports.csv', sep=\",\", inferSchema=\"true\", header=\"true\")\n",
    "airports.createOrReplaceTempView('airports')"
   ]
  },
  {
   "cell_type": "markdown",
   "metadata": {},
   "source": [
    "### **1. Mostrar los 5 aeropuertos de origen que tienen mayor cantidad de cancelaciones.**"
   ]
  },
  {
   "cell_type": "code",
   "execution_count": 5,
   "metadata": {},
   "outputs": [
    {
     "name": "stdout",
     "output_type": "stream",
     "text": [
      "+--------------------+\n",
      "|             AIRPORT|\n",
      "+--------------------+\n",
      "|Chicago O'Hare In...|\n",
      "|Dallas/Fort Worth...|\n",
      "|LaGuardia Airport...|\n",
      "|Newark Liberty In...|\n",
      "|Gen. Edward Lawre...|\n",
      "+--------------------+\n",
      "\n"
     ]
    }
   ],
   "source": [
    "top_5_cancelations = spark.sql('''\n",
    "    SELECT airports.AIRPORT\n",
    "    FROM flights INNER JOIN airports\n",
    "    ON flights.ORIGIN_AIRPORT = airports.IATA_CODE\n",
    "    WHERE flights.CANCELLED = 1\n",
    "    GROUP BY airports.AIRPORT\n",
    "    ORDER BY COUNT(flights.CANCELLED) DESC\n",
    "    LIMIT 5\n",
    "    ''')\n",
    "\n",
    "top_5_cancelations.show()"
   ]
  },
  {
   "cell_type": "markdown",
   "metadata": {},
   "source": [
    "### **2. Mostrar el nombre de aerolíneas y la cantidad de vuelos desde Atlanta (ATL) a Los Ángeles (LAX) ordenadas por cantidad de vuelos**"
   ]
  },
  {
   "cell_type": "code",
   "execution_count": 6,
   "metadata": {},
   "outputs": [
    {
     "name": "stdout",
     "output_type": "stream",
     "text": [
      "+--------------------+------------+\n",
      "|             AIRLINE|FLIGHT_COUNT|\n",
      "+--------------------+------------+\n",
      "|Delta Air Lines Inc.|        3624|\n",
      "|Southwest Airline...|         962|\n",
      "|American Airlines...|         765|\n",
      "|Frontier Airlines...|         215|\n",
      "|    Spirit Air Lines|         103|\n",
      "+--------------------+------------+\n",
      "\n"
     ]
    }
   ],
   "source": [
    "from_atl_to_lax = spark.sql('''\n",
    "    SELECT airlines.AIRLINE, COUNT(flights.AIRLINE) as FLIGHT_COUNT\n",
    "    FROM flights INNER JOIN airlines\n",
    "    ON flights.AIRLINE = airlines.IATA_CODE\n",
    "    WHERE flights.ORIGIN_AIRPORT = \"ATL\" AND flights.DESTINATION_AIRPORT = \"LAX\"\n",
    "    GROUP BY airlines.AIRLINE\n",
    "    ORDER BY FLIGHT_COUNT DESC\n",
    "''')\n",
    "\n",
    "from_atl_to_lax.show()"
   ]
  },
  {
   "cell_type": "markdown",
   "metadata": {},
   "source": [
    "### **3. Mostrar y Analizar el Query Plan del punto 2**"
   ]
  },
  {
   "cell_type": "code",
   "execution_count": 7,
   "metadata": {},
   "outputs": [
    {
     "name": "stdout",
     "output_type": "stream",
     "text": [
      "== Parsed Logical Plan ==\n",
      "'Sort ['FLIGHT_COUNT DESC NULLS LAST], true\n",
      "+- 'Aggregate ['airlines.AIRLINE], ['airlines.AIRLINE, 'COUNT('flights.AIRLINE) AS FLIGHT_COUNT#124]\n",
      "   +- 'Filter (('flights.ORIGIN_AIRPORT = ATL) && ('flights.DESTINATION_AIRPORT = LAX))\n",
      "      +- 'Join Inner, ('flights.AIRLINE = 'airlines.IATA_CODE)\n",
      "         :- 'UnresolvedRelation `flights`\n",
      "         +- 'UnresolvedRelation `airlines`\n",
      "\n",
      "== Analyzed Logical Plan ==\n",
      "AIRLINE: string, FLIGHT_COUNT: bigint\n",
      "Sort [FLIGHT_COUNT#124L DESC NULLS LAST], true\n",
      "+- Aggregate [AIRLINE#11], [AIRLINE#11, count(AIRLINE#28) AS FLIGHT_COUNT#124L]\n",
      "   +- Filter ((ORIGIN_AIRPORT#31 = ATL) && (DESTINATION_AIRPORT#32 = LAX))\n",
      "      +- Join Inner, (AIRLINE#28 = IATA_CODE#10)\n",
      "         :- SubqueryAlias flights\n",
      "         :  +- Relation[YEAR#24,MONTH#25,DAY#26,DAY_OF_WEEK#27,AIRLINE#28,FLIGHT_NUMBER#29,TAIL_NUMBER#30,ORIGIN_AIRPORT#31,DESTINATION_AIRPORT#32,SCHEDULED_DEPARTURE#33,DEPARTURE_TIME#34,DEPARTURE_DELAY#35,TAXI_OUT#36,WHEELS_OFF#37,SCHEDULED_TIME#38,ELAPSED_TIME#39,AIR_TIME#40,DISTANCE#41,WHEELS_ON#42,TAXI_IN#43,SCHEDULED_ARRIVAL#44,ARRIVAL_TIME#45,ARRIVAL_DELAY#46,DIVERTED#47,... 7 more fields] csv\n",
      "         +- SubqueryAlias airlines\n",
      "            +- Relation[IATA_CODE#10,AIRLINE#11] csv\n",
      "\n",
      "== Optimized Logical Plan ==\n",
      "Sort [FLIGHT_COUNT#124L DESC NULLS LAST], true\n",
      "+- Aggregate [AIRLINE#11], [AIRLINE#11, count(AIRLINE#28) AS FLIGHT_COUNT#124L]\n",
      "   +- Project [AIRLINE#28, AIRLINE#11]\n",
      "      +- Join Inner, (AIRLINE#28 = IATA_CODE#10)\n",
      "         :- Project [AIRLINE#28]\n",
      "         :  +- Filter ((((isnotnull(ORIGIN_AIRPORT#31) && isnotnull(DESTINATION_AIRPORT#32)) && (ORIGIN_AIRPORT#31 = ATL)) && (DESTINATION_AIRPORT#32 = LAX)) && isnotnull(AIRLINE#28))\n",
      "         :     +- Relation[YEAR#24,MONTH#25,DAY#26,DAY_OF_WEEK#27,AIRLINE#28,FLIGHT_NUMBER#29,TAIL_NUMBER#30,ORIGIN_AIRPORT#31,DESTINATION_AIRPORT#32,SCHEDULED_DEPARTURE#33,DEPARTURE_TIME#34,DEPARTURE_DELAY#35,TAXI_OUT#36,WHEELS_OFF#37,SCHEDULED_TIME#38,ELAPSED_TIME#39,AIR_TIME#40,DISTANCE#41,WHEELS_ON#42,TAXI_IN#43,SCHEDULED_ARRIVAL#44,ARRIVAL_TIME#45,ARRIVAL_DELAY#46,DIVERTED#47,... 7 more fields] csv\n",
      "         +- Filter isnotnull(IATA_CODE#10)\n",
      "            +- Relation[IATA_CODE#10,AIRLINE#11] csv\n",
      "\n",
      "== Physical Plan ==\n",
      "*(4) Sort [FLIGHT_COUNT#124L DESC NULLS LAST], true, 0\n",
      "+- Exchange rangepartitioning(FLIGHT_COUNT#124L DESC NULLS LAST, 200)\n",
      "   +- *(3) HashAggregate(keys=[AIRLINE#11], functions=[count(AIRLINE#28)], output=[AIRLINE#11, FLIGHT_COUNT#124L])\n",
      "      +- Exchange hashpartitioning(AIRLINE#11, 200)\n",
      "         +- *(2) HashAggregate(keys=[AIRLINE#11], functions=[partial_count(AIRLINE#28)], output=[AIRLINE#11, count#137L])\n",
      "            +- *(2) Project [AIRLINE#28, AIRLINE#11]\n",
      "               +- *(2) BroadcastHashJoin [AIRLINE#28], [IATA_CODE#10], Inner, BuildRight\n",
      "                  :- *(2) Project [AIRLINE#28]\n",
      "                  :  +- *(2) Filter ((((isnotnull(ORIGIN_AIRPORT#31) && isnotnull(DESTINATION_AIRPORT#32)) && (ORIGIN_AIRPORT#31 = ATL)) && (DESTINATION_AIRPORT#32 = LAX)) && isnotnull(AIRLINE#28))\n",
      "                  :     +- *(2) FileScan csv [AIRLINE#28,ORIGIN_AIRPORT#31,DESTINATION_AIRPORT#32] Batched: false, Format: CSV, Location: InMemoryFileIndex[file:/home/fransic/Documents/Facultad/2do Cuatrimestre 2018/Organizacion de Dat..., PartitionFilters: [], PushedFilters: [IsNotNull(ORIGIN_AIRPORT), IsNotNull(DESTINATION_AIRPORT), EqualTo(ORIGIN_AIRPORT,ATL), EqualTo(..., ReadSchema: struct<AIRLINE:string,ORIGIN_AIRPORT:string,DESTINATION_AIRPORT:string>\n",
      "                  +- BroadcastExchange HashedRelationBroadcastMode(List(input[0, string, true]))\n",
      "                     +- *(1) Project [IATA_CODE#10, AIRLINE#11]\n",
      "                        +- *(1) Filter isnotnull(IATA_CODE#10)\n",
      "                           +- *(1) FileScan csv [IATA_CODE#10,AIRLINE#11] Batched: false, Format: CSV, Location: InMemoryFileIndex[file:/home/fransic/Documents/Facultad/2do Cuatrimestre 2018/Organizacion de Dat..., PartitionFilters: [], PushedFilters: [IsNotNull(IATA_CODE)], ReadSchema: struct<IATA_CODE:string,AIRLINE:string>\n"
     ]
    }
   ],
   "source": [
    "from_atl_to_lax.explain(True)"
   ]
  },
  {
   "cell_type": "markdown",
   "metadata": {},
   "source": [
    "#### **¿Se realiza alguna optimización lógica, como filter pushdown? ¿En qué etapa?**\n",
    "\n",
    "Se realiza un _filter pushdown_: en la etapa de _Analized Logical Plan_ se hace primero el join y despues el filter, pero en _Optimized Logical Plan_ el  Catalyst Optimizer mueve el filter lo antes posible para desestimar datos innecesarios y optimizar el uso de memoria.\n",
    "\n",
    "Tambien se utiliza _projection pruning_ para descartar las columnas que no se usan. \n",
    "\n",
    "#### **¿Que tipo de Join Físico se realiza? ¿En qué etapa?**\n",
    "\n",
    "En la etapa de _Physical Plan_ se decide que se va a realizar un _BroadcastHashJoin_."
   ]
  }
 ],
 "metadata": {
  "kernelspec": {
   "display_name": "Python 3",
   "language": "python",
   "name": "python3"
  },
  "language_info": {
   "codemirror_mode": {
    "name": "ipython",
    "version": 3
   },
   "file_extension": ".py",
   "mimetype": "text/x-python",
   "name": "python",
   "nbconvert_exporter": "python",
   "pygments_lexer": "ipython3",
   "version": "3.6.5"
  }
 },
 "nbformat": 4,
 "nbformat_minor": 2
}
